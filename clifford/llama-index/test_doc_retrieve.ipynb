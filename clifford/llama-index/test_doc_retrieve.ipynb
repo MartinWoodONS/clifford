{
 "cells": [
  {
   "cell_type": "code",
   "execution_count": null,
   "metadata": {},
   "outputs": [],
   "source": [
    "from dotenv import load_dotenv\n",
    "\n",
    "load_dotenv()"
   ]
  },
  {
   "cell_type": "markdown",
   "metadata": {},
   "source": [
    "### Generate nodes and push to vector store\n",
    "**Note** If a VectorStore already exists on disk go straight to load indexes step"
   ]
  },
  {
   "cell_type": "code",
   "execution_count": null,
   "metadata": {},
   "outputs": [],
   "source": [
    "from ingest_emails import emails_to_documents\n",
    "\n",
    "docs = emails_to_documents(row_limit=5)"
   ]
  },
  {
   "cell_type": "code",
   "execution_count": null,
   "metadata": {},
   "outputs": [],
   "source": [
    "from llama_index.schema import MetadataMode\n",
    "\n",
    "# See what will be fed into a LLM\n",
    "print(\"The LLM sees this: \\n\", docs[1].get_content(metadata_mode=MetadataMode.LLM))\n",
    "print(\"The Embedding model sees this: \\n\", docs[1].get_content(metadata_mode=MetadataMode.EMBED))"
   ]
  },
  {
   "cell_type": "code",
   "execution_count": null,
   "metadata": {},
   "outputs": [],
   "source": [
    "from create_vector_store import parse_nodes_from_docs\n",
    "\n",
    "nodes = parse_nodes_from_docs(docs)"
   ]
  },
  {
   "cell_type": "code",
   "execution_count": null,
   "metadata": {},
   "outputs": [],
   "source": [
    "from create_vector_store import create_index, save_index\n",
    "\n",
    "# Index nodes and presist index to disk\n",
    "index = create_index(nodes)\n",
    "save_index(index)"
   ]
  },
  {
   "cell_type": "markdown",
   "metadata": {},
   "source": [
    "### Load indexes from disk"
   ]
  },
  {
   "cell_type": "code",
   "execution_count": null,
   "metadata": {},
   "outputs": [],
   "source": [
    "from create_vector_store import load_index\n",
    "\n",
    "index = load_index()"
   ]
  },
  {
   "cell_type": "markdown",
   "metadata": {},
   "source": [
    "### Retrieve similar docs from store"
   ]
  },
  {
   "cell_type": "code",
   "execution_count": null,
   "metadata": {},
   "outputs": [],
   "source": [
    "from llama_index.indices.vector_store.retrievers.retriever import VectorIndexRetriever\n",
    "\n",
    "vi_retriever = VectorIndexRetriever(index=index, similarity_top_k=3)"
   ]
  },
  {
   "cell_type": "code",
   "execution_count": null,
   "metadata": {},
   "outputs": [],
   "source": [
    "vi_retriever.retrieve(\"Documents about meetings\")"
   ]
  }
 ],
 "metadata": {
  "kernelspec": {
   "display_name": "clifford-py",
   "language": "python",
   "name": "clifford-py"
  },
  "language_info": {
   "codemirror_mode": {
    "name": "ipython",
    "version": 3
   },
   "file_extension": ".py",
   "mimetype": "text/x-python",
   "name": "python",
   "nbconvert_exporter": "python",
   "pygments_lexer": "ipython3",
   "version": "3.10.12"
  },
  "orig_nbformat": 4
 },
 "nbformat": 4,
 "nbformat_minor": 2
}
