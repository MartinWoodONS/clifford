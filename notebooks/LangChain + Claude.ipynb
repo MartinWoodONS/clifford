{
 "cells": [
  {
   "cell_type": "code",
   "execution_count": 77,
   "id": "cc644cb3",
   "metadata": {},
   "outputs": [],
   "source": [
    "import os\n",
    "os.environ[\"anthropic_api_key\"] = \"key_here\""
   ]
  },
  {
   "cell_type": "code",
   "execution_count": 78,
   "id": "ee80281e",
   "metadata": {},
   "outputs": [],
   "source": [
    "from langchain.chat_models import ChatAnthropic\n",
    "from langchain.prompts.chat import (\n",
    "    ChatPromptTemplate,\n",
    "    SystemMessagePromptTemplate,\n",
    "    AIMessagePromptTemplate,\n",
    "    HumanMessagePromptTemplate,\n",
    ")\n",
    "from langchain.schema import AIMessage, HumanMessage, SystemMessage\n"
   ]
  },
  {
   "attachments": {},
   "cell_type": "markdown",
   "id": "c1663c63",
   "metadata": {},
   "source": [
    "Testing Claude"
   ]
  },
  {
   "cell_type": "code",
   "execution_count": 79,
   "id": "56b03036",
   "metadata": {},
   "outputs": [
    {
     "data": {
      "text/plain": [
       "AIMessage(content=\" Voici la traduction en français : J'adore programmer.\", additional_kwargs={}, example=False)"
      ]
     },
     "execution_count": 79,
     "metadata": {},
     "output_type": "execute_result"
    }
   ],
   "source": [
    "chat = ChatAnthropic() ## Initializing Claude\n",
    "\n",
    "messages = [\n",
    "    HumanMessage(\n",
    "        content=\"Translate this sentence from English to French. I love programming.\"\n",
    "    )\n",
    "]\n",
    "chat(messages)"
   ]
  },
  {
   "cell_type": "code",
   "execution_count": 81,
   "id": "7eb8b9bc",
   "metadata": {},
   "outputs": [],
   "source": [
    "##Read .txt file from the folder pdf which reads all the txt and then combines them\n",
    "\n",
    "folder_path = 'pdf'\n",
    "file_contents = []\n",
    "\n",
    "for filename in os.listdir(folder_path):\n",
    "    if filename.endswith('.txt'):\n",
    "        file_path = os.path.join(folder_path, filename)\n",
    "        with open(file_path, 'r') as file:\n",
    "            content = file.read()\n",
    "            file_contents.append(content)\n",
    "\n",
    "context = '\\n'.join(file_contents)\n"
   ]
  },
  {
   "cell_type": "code",
   "execution_count": 91,
   "id": "4e06a271",
   "metadata": {},
   "outputs": [],
   "source": [
    "## Creating prompt using context text\n",
    "\n",
    "prompt1 = f\"\"\"\n",
    "From the {context}, tell me what is the email address of Syed? Be very specific to what I am asking\n",
    "\n",
    "\"\"\""
   ]
  },
  {
   "cell_type": "code",
   "execution_count": 92,
   "id": "5d7bd631",
   "metadata": {},
   "outputs": [
    {
     "name": "stdout",
     "output_type": "stream",
     "text": [
      "Based on the details provided in the resume, the email address of Syed Mahbubul Huq is:\n",
      "\n",
      "syed.huq@city.ac.uk\n"
     ]
    }
   ],
   "source": [
    "##Getting result\n",
    "\n",
    "model1 = chat.predict(prompt1).strip()\n",
    "print(model1)"
   ]
  },
  {
   "cell_type": "code",
   "execution_count": 94,
   "id": "171f96d0",
   "metadata": {
    "scrolled": true
   },
   "outputs": [
    {
     "name": "stdout",
     "output_type": "stream",
     "text": [
      "Requirement already satisfied: chromadb in g:\\anaconda2\\lib\\site-packages (0.4.3)\n",
      "Requirement already satisfied: onnxruntime>=1.14.1 in g:\\anaconda2\\lib\\site-packages (from chromadb) (1.15.1)\n",
      "Requirement already satisfied: typing-extensions>=4.5.0 in g:\\anaconda2\\lib\\site-packages (from chromadb) (4.7.1)\n",
      "Requirement already satisfied: pulsar-client>=3.1.0 in g:\\anaconda2\\lib\\site-packages (from chromadb) (3.2.0)\n",
      "Requirement already satisfied: tokenizers>=0.13.2 in g:\\anaconda2\\lib\\site-packages (from chromadb) (0.13.2)\n",
      "Requirement already satisfied: uvicorn[standard]>=0.18.3 in g:\\anaconda2\\lib\\site-packages (from chromadb) (0.23.1)\n",
      "Requirement already satisfied: requests>=2.28 in g:\\anaconda2\\lib\\site-packages (from chromadb) (2.31.0)\n",
      "Requirement already satisfied: pypika>=0.48.9 in g:\\anaconda2\\lib\\site-packages (from chromadb) (0.48.9)\n",
      "Requirement already satisfied: fastapi<0.100.0,>=0.95.2 in g:\\anaconda2\\lib\\site-packages (from chromadb) (0.99.1)\n",
      "Requirement already satisfied: overrides>=7.3.1 in g:\\anaconda2\\lib\\site-packages (from chromadb) (7.3.1)\n",
      "Requirement already satisfied: pandas>=1.3 in g:\\anaconda2\\lib\\site-packages (from chromadb) (1.5.3)\n",
      "Requirement already satisfied: posthog>=2.4.0 in g:\\anaconda2\\lib\\site-packages (from chromadb) (3.0.1)\n",
      "Requirement already satisfied: numpy>=1.21.6 in g:\\anaconda2\\lib\\site-packages (from chromadb) (1.23.5)\n",
      "Requirement already satisfied: chroma-hnswlib==0.7.1 in g:\\anaconda2\\lib\\site-packages (from chromadb) (0.7.1)\n",
      "Requirement already satisfied: tqdm>=4.65.0 in g:\\anaconda2\\lib\\site-packages (from chromadb) (4.65.0)\n",
      "Requirement already satisfied: pydantic<2.0,>=1.9 in g:\\anaconda2\\lib\\site-packages (from chromadb) (1.10.5)\n",
      "Requirement already satisfied: importlib-resources in g:\\anaconda2\\lib\\site-packages (from chromadb) (5.12.0)\n",
      "Requirement already satisfied: starlette<0.28.0,>=0.27.0 in g:\\anaconda2\\lib\\site-packages (from fastapi<0.100.0,>=0.95.2->chromadb) (0.27.0)\n",
      "Requirement already satisfied: flatbuffers in g:\\anaconda2\\lib\\site-packages (from onnxruntime>=1.14.1->chromadb) (23.3.3)\n",
      "Requirement already satisfied: packaging in g:\\anaconda2\\lib\\site-packages (from onnxruntime>=1.14.1->chromadb) (23.0)\n",
      "Requirement already satisfied: protobuf in g:\\anaconda2\\lib\\site-packages (from onnxruntime>=1.14.1->chromadb) (4.23.4)\n",
      "Requirement already satisfied: coloredlogs in g:\\anaconda2\\lib\\site-packages (from onnxruntime>=1.14.1->chromadb) (15.0.1)\n",
      "Requirement already satisfied: sympy in g:\\anaconda2\\lib\\site-packages (from onnxruntime>=1.14.1->chromadb) (1.12)\n",
      "Requirement already satisfied: pytz>=2020.1 in g:\\anaconda2\\lib\\site-packages (from pandas>=1.3->chromadb) (2022.7)\n",
      "Requirement already satisfied: python-dateutil>=2.8.1 in g:\\anaconda2\\lib\\site-packages (from pandas>=1.3->chromadb) (2.8.2)\n",
      "Requirement already satisfied: six>=1.5 in g:\\anaconda2\\lib\\site-packages (from posthog>=2.4.0->chromadb) (1.16.0)\n",
      "Requirement already satisfied: backoff>=1.10.0 in g:\\anaconda2\\lib\\site-packages (from posthog>=2.4.0->chromadb) (2.2.1)\n",
      "Requirement already satisfied: monotonic>=1.5 in g:\\anaconda2\\lib\\site-packages (from posthog>=2.4.0->chromadb) (1.6)\n",
      "Requirement already satisfied: certifi in g:\\anaconda2\\lib\\site-packages (from pulsar-client>=3.1.0->chromadb) (2022.12.7)\n",
      "Requirement already satisfied: idna<4,>=2.5 in g:\\anaconda2\\lib\\site-packages (from requests>=2.28->chromadb) (3.4)\n",
      "Requirement already satisfied: urllib3<3,>=1.21.1 in g:\\anaconda2\\lib\\site-packages (from requests>=2.28->chromadb) (1.26.14)\n",
      "Requirement already satisfied: charset-normalizer<4,>=2 in g:\\anaconda2\\lib\\site-packages (from requests>=2.28->chromadb) (2.0.4)\n",
      "Requirement already satisfied: colorama in g:\\anaconda2\\lib\\site-packages (from tqdm>=4.65.0->chromadb) (0.4.6)\n",
      "Requirement already satisfied: h11>=0.8 in g:\\anaconda2\\lib\\site-packages (from uvicorn[standard]>=0.18.3->chromadb) (0.14.0)\n",
      "Requirement already satisfied: click>=7.0 in g:\\anaconda2\\lib\\site-packages (from uvicorn[standard]>=0.18.3->chromadb) (8.0.4)\n",
      "Requirement already satisfied: python-dotenv>=0.13 in g:\\anaconda2\\lib\\site-packages (from uvicorn[standard]>=0.18.3->chromadb) (0.19.2)\n",
      "Requirement already satisfied: websockets>=10.4 in g:\\anaconda2\\lib\\site-packages (from uvicorn[standard]>=0.18.3->chromadb) (10.4)\n",
      "Requirement already satisfied: httptools>=0.5.0 in g:\\anaconda2\\lib\\site-packages (from uvicorn[standard]>=0.18.3->chromadb) (0.6.0)\n",
      "Requirement already satisfied: pyyaml>=5.1 in g:\\anaconda2\\lib\\site-packages (from uvicorn[standard]>=0.18.3->chromadb) (6.0)\n",
      "Requirement already satisfied: watchfiles>=0.13 in g:\\anaconda2\\lib\\site-packages (from uvicorn[standard]>=0.18.3->chromadb) (0.19.0)\n",
      "Requirement already satisfied: zipp>=3.1.0 in g:\\anaconda2\\lib\\site-packages (from importlib-resources->chromadb) (3.15.0)\n",
      "Requirement already satisfied: anyio<5,>=3.4.0 in g:\\anaconda2\\lib\\site-packages (from starlette<0.28.0,>=0.27.0->fastapi<0.100.0,>=0.95.2->chromadb) (3.6.2)\n",
      "Requirement already satisfied: humanfriendly>=9.1 in g:\\anaconda2\\lib\\site-packages (from coloredlogs->onnxruntime>=1.14.1->chromadb) (10.0)\n",
      "Requirement already satisfied: mpmath>=0.19 in g:\\anaconda2\\lib\\site-packages (from sympy->onnxruntime>=1.14.1->chromadb) (1.3.0)\n",
      "Requirement already satisfied: sniffio>=1.1 in g:\\anaconda2\\lib\\site-packages (from anyio<5,>=3.4.0->starlette<0.28.0,>=0.27.0->fastapi<0.100.0,>=0.95.2->chromadb) (1.3.0)\n",
      "Requirement already satisfied: pyreadline3 in g:\\anaconda2\\lib\\site-packages (from humanfriendly>=9.1->coloredlogs->onnxruntime>=1.14.1->chromadb) (3.4.1)\n"
     ]
    },
    {
     "name": "stderr",
     "output_type": "stream",
     "text": [
      "WARNING: Ignoring invalid distribution -cipy (g:\\anaconda2\\lib\\site-packages)\n",
      "WARNING: Ignoring invalid distribution -cipy (g:\\anaconda2\\lib\\site-packages)\n",
      "WARNING: Ignoring invalid distribution -cipy (g:\\anaconda2\\lib\\site-packages)\n",
      "WARNING: Ignoring invalid distribution -cipy (g:\\anaconda2\\lib\\site-packages)\n",
      "WARNING: Ignoring invalid distribution -cipy (g:\\anaconda2\\lib\\site-packages)\n",
      "WARNING: Ignoring invalid distribution -cipy (g:\\anaconda2\\lib\\site-packages)\n"
     ]
    }
   ],
   "source": [
    "##Instaling chromadb\n",
    "\n",
    "!pip install chromadb"
   ]
  },
  {
   "attachments": {},
   "cell_type": "markdown",
   "id": "43c39d2b",
   "metadata": {},
   "source": [
    "Using OpenAI Embedding "
   ]
  },
  {
   "cell_type": "code",
   "execution_count": 96,
   "id": "9474172d",
   "metadata": {},
   "outputs": [],
   "source": [
    "import os\n",
    "from langchain.llms import OpenAI\n",
    "os.environ[\"OPENAI_API_KEY\"] = \"\""
   ]
  },
  {
   "cell_type": "code",
   "execution_count": 65,
   "id": "4ac541c2",
   "metadata": {},
   "outputs": [
    {
     "name": "stdout",
     "output_type": "stream",
     "text": [
      "Collecting tiktoken\n",
      "  Downloading tiktoken-0.4.0-cp39-cp39-win_amd64.whl (635 kB)\n",
      "     ---------------------------------------- 0.0/635.6 kB ? eta -:--:--\n",
      "     ----------- -------------------------- 194.6/635.6 kB 5.9 MB/s eta 0:00:01\n",
      "     ----------------------- -------------- 389.1/635.6 kB 4.9 MB/s eta 0:00:01\n",
      "     ---------------------------- --------- 481.3/635.6 kB 3.8 MB/s eta 0:00:01\n",
      "     ------------------------------------ - 614.4/635.6 kB 3.5 MB/s eta 0:00:01\n",
      "     -------------------------------------- 635.6/635.6 kB 3.3 MB/s eta 0:00:00\n",
      "Requirement already satisfied: regex>=2022.1.18 in g:\\anaconda2\\lib\\site-packages (from tiktoken) (2022.10.31)\n",
      "Requirement already satisfied: requests>=2.26.0 in g:\\anaconda2\\lib\\site-packages (from tiktoken) (2.31.0)\n",
      "Requirement already satisfied: urllib3<3,>=1.21.1 in g:\\anaconda2\\lib\\site-packages (from requests>=2.26.0->tiktoken) (1.26.14)\n",
      "Requirement already satisfied: certifi>=2017.4.17 in g:\\anaconda2\\lib\\site-packages (from requests>=2.26.0->tiktoken) (2022.12.7)\n",
      "Requirement already satisfied: charset-normalizer<4,>=2 in g:\\anaconda2\\lib\\site-packages (from requests>=2.26.0->tiktoken) (2.0.4)\n",
      "Requirement already satisfied: idna<4,>=2.5 in g:\\anaconda2\\lib\\site-packages (from requests>=2.26.0->tiktoken) (3.4)\n",
      "Installing collected packages: tiktoken\n",
      "Successfully installed tiktoken-0.4.0\n"
     ]
    },
    {
     "name": "stderr",
     "output_type": "stream",
     "text": [
      "WARNING: Ignoring invalid distribution -cipy (g:\\anaconda2\\lib\\site-packages)\n",
      "WARNING: Ignoring invalid distribution -cipy (g:\\anaconda2\\lib\\site-packages)\n",
      "WARNING: Ignoring invalid distribution -cipy (g:\\anaconda2\\lib\\site-packages)\n",
      "WARNING: Ignoring invalid distribution -cipy (g:\\anaconda2\\lib\\site-packages)\n",
      "WARNING: Ignoring invalid distribution -cipy (g:\\anaconda2\\lib\\site-packages)\n",
      "WARNING: Ignoring invalid distribution -cipy (g:\\anaconda2\\lib\\site-packages)\n",
      "WARNING: Ignoring invalid distribution -cipy (g:\\anaconda2\\lib\\site-packages)\n"
     ]
    }
   ],
   "source": [
    "!pip install tiktoken"
   ]
  },
  {
   "cell_type": "code",
   "execution_count": 97,
   "id": "93f018dc",
   "metadata": {},
   "outputs": [],
   "source": [
    "from langchain.document_loaders import TextLoader\n",
    "from langchain.embeddings.openai import OpenAIEmbeddings\n",
    "from langchain.text_splitter import CharacterTextSplitter\n",
    "from langchain.vectorstores import Chroma\n",
    "\n",
    "raw_documents = TextLoader('pdf/syed.txt').load()\n",
    "text_splitter = CharacterTextSplitter(chunk_size=1000, chunk_overlap=0)\n",
    "documents = text_splitter.split_documents(raw_documents)\n",
    "db = Chroma.from_documents(documents, OpenAIEmbeddings())"
   ]
  },
  {
   "cell_type": "code",
   "execution_count": 67,
   "id": "2730a6d9",
   "metadata": {},
   "outputs": [
    {
     "data": {
      "text/plain": [
       "<langchain.vectorstores.chroma.Chroma at 0x1ed11764a60>"
      ]
     },
     "execution_count": 67,
     "metadata": {},
     "output_type": "execute_result"
    }
   ],
   "source": [
    "db"
   ]
  },
  {
   "cell_type": "code",
   "execution_count": 98,
   "id": "a3281c96",
   "metadata": {},
   "outputs": [],
   "source": [
    "from langchain.chains import VectorDBQA"
   ]
  },
  {
   "cell_type": "code",
   "execution_count": 99,
   "id": "098139fc",
   "metadata": {},
   "outputs": [],
   "source": [
    "qa = VectorDBQA.from_chain_type(llm=chat, chain_type=\"stuff\", vectorstore = db)"
   ]
  },
  {
   "cell_type": "code",
   "execution_count": 100,
   "id": "e9274325",
   "metadata": {},
   "outputs": [
    {
     "name": "stderr",
     "output_type": "stream",
     "text": [
      "Number of requested results 4 is greater than number of elements in index 2, updating n_results = 2\n"
     ]
    },
    {
     "data": {
      "text/plain": [
       "\" Based on the context provided, Syed Mahbubul Huq's email address is:\\n\\nsyed.huq@city.ac.uk\""
      ]
     },
     "execution_count": 100,
     "metadata": {},
     "output_type": "execute_result"
    }
   ],
   "source": [
    "query = \"Tell me what is the email address of Syed? Be very specific to what I am asking?\"\n",
    "qa.run(query)"
   ]
  },
  {
   "cell_type": "code",
   "execution_count": null,
   "id": "6b78e84c",
   "metadata": {},
   "outputs": [],
   "source": []
  }
 ],
 "metadata": {
  "kernelspec": {
   "display_name": "llm-test",
   "language": "python",
   "name": "llm-test"
  },
  "language_info": {
   "codemirror_mode": {
    "name": "ipython",
    "version": 3
   },
   "file_extension": ".py",
   "mimetype": "text/x-python",
   "name": "python",
   "nbconvert_exporter": "python",
   "pygments_lexer": "ipython3",
   "version": "3.9.16"
  }
 },
 "nbformat": 4,
 "nbformat_minor": 5
}
